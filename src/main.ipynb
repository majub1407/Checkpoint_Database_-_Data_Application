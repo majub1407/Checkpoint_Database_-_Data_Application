{
 "cells": [
  {
   "cell_type": "code",
   "execution_count": 29,
   "metadata": {},
   "outputs": [
    {
     "name": "stdout",
     "output_type": "stream",
     "text": [
      "Requirement already satisfied: pandas in c:\\users\\pedro\\appdata\\local\\packages\\pythonsoftwarefoundation.python.3.11_qbz5n2kfra8p0\\localcache\\local-packages\\python311\\site-packages (2.2.3)\n",
      "Requirement already satisfied: numpy>=1.23.2 in c:\\users\\pedro\\appdata\\local\\packages\\pythonsoftwarefoundation.python.3.11_qbz5n2kfra8p0\\localcache\\local-packages\\python311\\site-packages (from pandas) (2.1.3)\n",
      "Requirement already satisfied: python-dateutil>=2.8.2 in c:\\users\\pedro\\appdata\\local\\packages\\pythonsoftwarefoundation.python.3.11_qbz5n2kfra8p0\\localcache\\local-packages\\python311\\site-packages (from pandas) (2.9.0.post0)\n",
      "Requirement already satisfied: pytz>=2020.1 in c:\\users\\pedro\\appdata\\local\\packages\\pythonsoftwarefoundation.python.3.11_qbz5n2kfra8p0\\localcache\\local-packages\\python311\\site-packages (from pandas) (2024.2)\n",
      "Requirement already satisfied: tzdata>=2022.7 in c:\\users\\pedro\\appdata\\local\\packages\\pythonsoftwarefoundation.python.3.11_qbz5n2kfra8p0\\localcache\\local-packages\\python311\\site-packages (from pandas) (2024.2)\n",
      "Requirement already satisfied: six>=1.5 in c:\\users\\pedro\\appdata\\local\\packages\\pythonsoftwarefoundation.python.3.11_qbz5n2kfra8p0\\localcache\\local-packages\\python311\\site-packages (from python-dateutil>=2.8.2->pandas) (1.16.0)\n",
      "Note: you may need to restart the kernel to use updated packages.\n"
     ]
    },
    {
     "name": "stderr",
     "output_type": "stream",
     "text": [
      "\n",
      "[notice] A new release of pip is available: 24.0 -> 24.3.1\n",
      "[notice] To update, run: C:\\Users\\pedro\\AppData\\Local\\Microsoft\\WindowsApps\\PythonSoftwareFoundation.Python.3.11_qbz5n2kfra8p0\\python.exe -m pip install --upgrade pip\n"
     ]
    }
   ],
   "source": [
    "%pip install pandas"
   ]
  },
  {
   "cell_type": "code",
   "execution_count": 30,
   "metadata": {},
   "outputs": [
    {
     "data": {
      "text/html": [
       "<div>\n",
       "<style scoped>\n",
       "    .dataframe tbody tr th:only-of-type {\n",
       "        vertical-align: middle;\n",
       "    }\n",
       "\n",
       "    .dataframe tbody tr th {\n",
       "        vertical-align: top;\n",
       "    }\n",
       "\n",
       "    .dataframe thead th {\n",
       "        text-align: right;\n",
       "    }\n",
       "</style>\n",
       "<table border=\"1\" class=\"dataframe\">\n",
       "  <thead>\n",
       "    <tr style=\"text-align: right;\">\n",
       "      <th></th>\n",
       "      <th>InvoiceNo</th>\n",
       "      <th>StockCode</th>\n",
       "      <th>Description</th>\n",
       "      <th>Quantity</th>\n",
       "      <th>InvoiceDate</th>\n",
       "      <th>UnitPrice</th>\n",
       "      <th>CustomerID</th>\n",
       "      <th>Country</th>\n",
       "    </tr>\n",
       "  </thead>\n",
       "  <tbody>\n",
       "    <tr>\n",
       "      <th>0</th>\n",
       "      <td>489434</td>\n",
       "      <td>85048</td>\n",
       "      <td>15CM CHRISTMAS GLASS BALL 20 LIGHTS</td>\n",
       "      <td>12</td>\n",
       "      <td>12/1/2009 7:45</td>\n",
       "      <td>6.95</td>\n",
       "      <td>13085.0</td>\n",
       "      <td>United Kingdom</td>\n",
       "    </tr>\n",
       "    <tr>\n",
       "      <th>1</th>\n",
       "      <td>489434</td>\n",
       "      <td>79323P</td>\n",
       "      <td>PINK CHERRY LIGHTS</td>\n",
       "      <td>12</td>\n",
       "      <td>12/1/2009 7:45</td>\n",
       "      <td>6.75</td>\n",
       "      <td>13085.0</td>\n",
       "      <td>United Kingdom</td>\n",
       "    </tr>\n",
       "    <tr>\n",
       "      <th>2</th>\n",
       "      <td>489434</td>\n",
       "      <td>79323W</td>\n",
       "      <td>WHITE CHERRY LIGHTS</td>\n",
       "      <td>12</td>\n",
       "      <td>12/1/2009 7:45</td>\n",
       "      <td>6.75</td>\n",
       "      <td>13085.0</td>\n",
       "      <td>United Kingdom</td>\n",
       "    </tr>\n",
       "    <tr>\n",
       "      <th>3</th>\n",
       "      <td>489434</td>\n",
       "      <td>22041</td>\n",
       "      <td>RECORD FRAME 7\" SINGLE SIZE</td>\n",
       "      <td>48</td>\n",
       "      <td>12/1/2009 7:45</td>\n",
       "      <td>2.10</td>\n",
       "      <td>13085.0</td>\n",
       "      <td>United Kingdom</td>\n",
       "    </tr>\n",
       "    <tr>\n",
       "      <th>4</th>\n",
       "      <td>489434</td>\n",
       "      <td>21232</td>\n",
       "      <td>STRAWBERRY CERAMIC TRINKET BOX</td>\n",
       "      <td>24</td>\n",
       "      <td>12/1/2009 7:45</td>\n",
       "      <td>1.25</td>\n",
       "      <td>13085.0</td>\n",
       "      <td>United Kingdom</td>\n",
       "    </tr>\n",
       "    <tr>\n",
       "      <th>...</th>\n",
       "      <td>...</td>\n",
       "      <td>...</td>\n",
       "      <td>...</td>\n",
       "      <td>...</td>\n",
       "      <td>...</td>\n",
       "      <td>...</td>\n",
       "      <td>...</td>\n",
       "      <td>...</td>\n",
       "    </tr>\n",
       "    <tr>\n",
       "      <th>525456</th>\n",
       "      <td>538171</td>\n",
       "      <td>22271</td>\n",
       "      <td>FELTCRAFT DOLL ROSIE</td>\n",
       "      <td>2</td>\n",
       "      <td>12/9/2010 20:01</td>\n",
       "      <td>2.95</td>\n",
       "      <td>17530.0</td>\n",
       "      <td>United Kingdom</td>\n",
       "    </tr>\n",
       "    <tr>\n",
       "      <th>525457</th>\n",
       "      <td>538171</td>\n",
       "      <td>22750</td>\n",
       "      <td>FELTCRAFT PRINCESS LOLA DOLL</td>\n",
       "      <td>1</td>\n",
       "      <td>12/9/2010 20:01</td>\n",
       "      <td>3.75</td>\n",
       "      <td>17530.0</td>\n",
       "      <td>United Kingdom</td>\n",
       "    </tr>\n",
       "    <tr>\n",
       "      <th>525458</th>\n",
       "      <td>538171</td>\n",
       "      <td>22751</td>\n",
       "      <td>FELTCRAFT PRINCESS OLIVIA DOLL</td>\n",
       "      <td>1</td>\n",
       "      <td>12/9/2010 20:01</td>\n",
       "      <td>3.75</td>\n",
       "      <td>17530.0</td>\n",
       "      <td>United Kingdom</td>\n",
       "    </tr>\n",
       "    <tr>\n",
       "      <th>525459</th>\n",
       "      <td>538171</td>\n",
       "      <td>20970</td>\n",
       "      <td>PINK FLORAL FELTCRAFT SHOULDER BAG</td>\n",
       "      <td>2</td>\n",
       "      <td>12/9/2010 20:01</td>\n",
       "      <td>3.75</td>\n",
       "      <td>17530.0</td>\n",
       "      <td>United Kingdom</td>\n",
       "    </tr>\n",
       "    <tr>\n",
       "      <th>525460</th>\n",
       "      <td>538171</td>\n",
       "      <td>21931</td>\n",
       "      <td>JUMBO STORAGE BAG SUKI</td>\n",
       "      <td>2</td>\n",
       "      <td>12/9/2010 20:01</td>\n",
       "      <td>1.95</td>\n",
       "      <td>17530.0</td>\n",
       "      <td>United Kingdom</td>\n",
       "    </tr>\n",
       "  </tbody>\n",
       "</table>\n",
       "<p>525461 rows × 8 columns</p>\n",
       "</div>"
      ],
      "text/plain": [
       "       InvoiceNo StockCode                          Description  Quantity  \\\n",
       "0         489434     85048  15CM CHRISTMAS GLASS BALL 20 LIGHTS        12   \n",
       "1         489434    79323P                   PINK CHERRY LIGHTS        12   \n",
       "2         489434    79323W                  WHITE CHERRY LIGHTS        12   \n",
       "3         489434     22041         RECORD FRAME 7\" SINGLE SIZE         48   \n",
       "4         489434     21232       STRAWBERRY CERAMIC TRINKET BOX        24   \n",
       "...          ...       ...                                  ...       ...   \n",
       "525456    538171     22271                 FELTCRAFT DOLL ROSIE         2   \n",
       "525457    538171     22750         FELTCRAFT PRINCESS LOLA DOLL         1   \n",
       "525458    538171     22751       FELTCRAFT PRINCESS OLIVIA DOLL         1   \n",
       "525459    538171     20970   PINK FLORAL FELTCRAFT SHOULDER BAG         2   \n",
       "525460    538171     21931               JUMBO STORAGE BAG SUKI         2   \n",
       "\n",
       "            InvoiceDate  UnitPrice  CustomerID         Country  \n",
       "0        12/1/2009 7:45       6.95     13085.0  United Kingdom  \n",
       "1        12/1/2009 7:45       6.75     13085.0  United Kingdom  \n",
       "2        12/1/2009 7:45       6.75     13085.0  United Kingdom  \n",
       "3        12/1/2009 7:45       2.10     13085.0  United Kingdom  \n",
       "4        12/1/2009 7:45       1.25     13085.0  United Kingdom  \n",
       "...                 ...        ...         ...             ...  \n",
       "525456  12/9/2010 20:01       2.95     17530.0  United Kingdom  \n",
       "525457  12/9/2010 20:01       3.75     17530.0  United Kingdom  \n",
       "525458  12/9/2010 20:01       3.75     17530.0  United Kingdom  \n",
       "525459  12/9/2010 20:01       3.75     17530.0  United Kingdom  \n",
       "525460  12/9/2010 20:01       1.95     17530.0  United Kingdom  \n",
       "\n",
       "[525461 rows x 8 columns]"
      ]
     },
     "execution_count": 30,
     "metadata": {},
     "output_type": "execute_result"
    }
   ],
   "source": [
    "#Importação do Conjunto de Dados\n",
    "\n",
    "\n",
    "import pandas as pd\n",
    "\n",
    "df = pd.read_csv('online_retail_09_10.csv')\n",
    "df"
   ]
  },
  {
   "cell_type": "code",
   "execution_count": 31,
   "metadata": {},
   "outputs": [
    {
     "name": "stdout",
     "output_type": "stream",
     "text": [
      "InvoiceNo           0\n",
      "StockCode           0\n",
      "Description      2928\n",
      "Quantity            0\n",
      "InvoiceDate         0\n",
      "UnitPrice           0\n",
      "CustomerID     107927\n",
      "Country             0\n",
      "dtype: int64\n"
     ]
    }
   ],
   "source": [
    "print(df.isnull().sum())\n",
    "df.dropna(inplace=True)"
   ]
  },
  {
   "cell_type": "code",
   "execution_count": 32,
   "metadata": {},
   "outputs": [
    {
     "name": "stdout",
     "output_type": "stream",
     "text": [
      "InvoiceNo       object\n",
      "StockCode       object\n",
      "Description     object\n",
      "Quantity         int64\n",
      "InvoiceDate     object\n",
      "UnitPrice      float64\n",
      "CustomerID     float64\n",
      "Country         object\n",
      "dtype: object\n"
     ]
    }
   ],
   "source": [
    "#1. Tratar Valores Ausentes e Inconsistências\n",
    "\n",
    "print(df.dtypes)\n",
    "\n",
    "df['Quantity'] = df['Quantity'].astype(int)\n",
    "df['UnitPrice'] = df['UnitPrice'].astype(float)"
   ]
  },
  {
   "cell_type": "code",
   "execution_count": 33,
   "metadata": {},
   "outputs": [
    {
     "data": {
      "text/html": [
       "<div>\n",
       "<style scoped>\n",
       "    .dataframe tbody tr th:only-of-type {\n",
       "        vertical-align: middle;\n",
       "    }\n",
       "\n",
       "    .dataframe tbody tr th {\n",
       "        vertical-align: top;\n",
       "    }\n",
       "\n",
       "    .dataframe thead th {\n",
       "        text-align: right;\n",
       "    }\n",
       "</style>\n",
       "<table border=\"1\" class=\"dataframe\">\n",
       "  <thead>\n",
       "    <tr style=\"text-align: right;\">\n",
       "      <th></th>\n",
       "      <th>InvoiceNo</th>\n",
       "      <th>StockCode</th>\n",
       "      <th>Description</th>\n",
       "      <th>Quantity</th>\n",
       "      <th>InvoiceDate</th>\n",
       "      <th>UnitPrice</th>\n",
       "      <th>CustomerID</th>\n",
       "      <th>Country</th>\n",
       "    </tr>\n",
       "  </thead>\n",
       "  <tbody>\n",
       "    <tr>\n",
       "      <th>0</th>\n",
       "      <td>489434</td>\n",
       "      <td>85048</td>\n",
       "      <td>15CM CHRISTMAS GLASS BALL 20 LIGHTS</td>\n",
       "      <td>12</td>\n",
       "      <td>12/1/2009 7:45</td>\n",
       "      <td>6.95</td>\n",
       "      <td>13085.0</td>\n",
       "      <td>United Kingdom</td>\n",
       "    </tr>\n",
       "    <tr>\n",
       "      <th>1</th>\n",
       "      <td>489434</td>\n",
       "      <td>79323P</td>\n",
       "      <td>PINK CHERRY LIGHTS</td>\n",
       "      <td>12</td>\n",
       "      <td>12/1/2009 7:45</td>\n",
       "      <td>6.75</td>\n",
       "      <td>13085.0</td>\n",
       "      <td>United Kingdom</td>\n",
       "    </tr>\n",
       "    <tr>\n",
       "      <th>2</th>\n",
       "      <td>489434</td>\n",
       "      <td>79323W</td>\n",
       "      <td>WHITE CHERRY LIGHTS</td>\n",
       "      <td>12</td>\n",
       "      <td>12/1/2009 7:45</td>\n",
       "      <td>6.75</td>\n",
       "      <td>13085.0</td>\n",
       "      <td>United Kingdom</td>\n",
       "    </tr>\n",
       "    <tr>\n",
       "      <th>4</th>\n",
       "      <td>489434</td>\n",
       "      <td>21232</td>\n",
       "      <td>STRAWBERRY CERAMIC TRINKET BOX</td>\n",
       "      <td>24</td>\n",
       "      <td>12/1/2009 7:45</td>\n",
       "      <td>1.25</td>\n",
       "      <td>13085.0</td>\n",
       "      <td>United Kingdom</td>\n",
       "    </tr>\n",
       "    <tr>\n",
       "      <th>5</th>\n",
       "      <td>489434</td>\n",
       "      <td>22064</td>\n",
       "      <td>PINK DOUGHNUT TRINKET POT</td>\n",
       "      <td>24</td>\n",
       "      <td>12/1/2009 7:45</td>\n",
       "      <td>1.65</td>\n",
       "      <td>13085.0</td>\n",
       "      <td>United Kingdom</td>\n",
       "    </tr>\n",
       "    <tr>\n",
       "      <th>...</th>\n",
       "      <td>...</td>\n",
       "      <td>...</td>\n",
       "      <td>...</td>\n",
       "      <td>...</td>\n",
       "      <td>...</td>\n",
       "      <td>...</td>\n",
       "      <td>...</td>\n",
       "      <td>...</td>\n",
       "    </tr>\n",
       "    <tr>\n",
       "      <th>525456</th>\n",
       "      <td>538171</td>\n",
       "      <td>22271</td>\n",
       "      <td>FELTCRAFT DOLL ROSIE</td>\n",
       "      <td>2</td>\n",
       "      <td>12/9/2010 20:01</td>\n",
       "      <td>2.95</td>\n",
       "      <td>17530.0</td>\n",
       "      <td>United Kingdom</td>\n",
       "    </tr>\n",
       "    <tr>\n",
       "      <th>525457</th>\n",
       "      <td>538171</td>\n",
       "      <td>22750</td>\n",
       "      <td>FELTCRAFT PRINCESS LOLA DOLL</td>\n",
       "      <td>1</td>\n",
       "      <td>12/9/2010 20:01</td>\n",
       "      <td>3.75</td>\n",
       "      <td>17530.0</td>\n",
       "      <td>United Kingdom</td>\n",
       "    </tr>\n",
       "    <tr>\n",
       "      <th>525458</th>\n",
       "      <td>538171</td>\n",
       "      <td>22751</td>\n",
       "      <td>FELTCRAFT PRINCESS OLIVIA DOLL</td>\n",
       "      <td>1</td>\n",
       "      <td>12/9/2010 20:01</td>\n",
       "      <td>3.75</td>\n",
       "      <td>17530.0</td>\n",
       "      <td>United Kingdom</td>\n",
       "    </tr>\n",
       "    <tr>\n",
       "      <th>525459</th>\n",
       "      <td>538171</td>\n",
       "      <td>20970</td>\n",
       "      <td>PINK FLORAL FELTCRAFT SHOULDER BAG</td>\n",
       "      <td>2</td>\n",
       "      <td>12/9/2010 20:01</td>\n",
       "      <td>3.75</td>\n",
       "      <td>17530.0</td>\n",
       "      <td>United Kingdom</td>\n",
       "    </tr>\n",
       "    <tr>\n",
       "      <th>525460</th>\n",
       "      <td>538171</td>\n",
       "      <td>21931</td>\n",
       "      <td>JUMBO STORAGE BAG SUKI</td>\n",
       "      <td>2</td>\n",
       "      <td>12/9/2010 20:01</td>\n",
       "      <td>1.95</td>\n",
       "      <td>17530.0</td>\n",
       "      <td>United Kingdom</td>\n",
       "    </tr>\n",
       "  </tbody>\n",
       "</table>\n",
       "<p>349025 rows × 8 columns</p>\n",
       "</div>"
      ],
      "text/plain": [
       "       InvoiceNo StockCode                          Description  Quantity  \\\n",
       "0         489434     85048  15CM CHRISTMAS GLASS BALL 20 LIGHTS        12   \n",
       "1         489434    79323P                   PINK CHERRY LIGHTS        12   \n",
       "2         489434    79323W                  WHITE CHERRY LIGHTS        12   \n",
       "4         489434     21232       STRAWBERRY CERAMIC TRINKET BOX        24   \n",
       "5         489434     22064           PINK DOUGHNUT TRINKET POT         24   \n",
       "...          ...       ...                                  ...       ...   \n",
       "525456    538171     22271                 FELTCRAFT DOLL ROSIE         2   \n",
       "525457    538171     22750         FELTCRAFT PRINCESS LOLA DOLL         1   \n",
       "525458    538171     22751       FELTCRAFT PRINCESS OLIVIA DOLL         1   \n",
       "525459    538171     20970   PINK FLORAL FELTCRAFT SHOULDER BAG         2   \n",
       "525460    538171     21931               JUMBO STORAGE BAG SUKI         2   \n",
       "\n",
       "            InvoiceDate  UnitPrice  CustomerID         Country  \n",
       "0        12/1/2009 7:45       6.95     13085.0  United Kingdom  \n",
       "1        12/1/2009 7:45       6.75     13085.0  United Kingdom  \n",
       "2        12/1/2009 7:45       6.75     13085.0  United Kingdom  \n",
       "4        12/1/2009 7:45       1.25     13085.0  United Kingdom  \n",
       "5        12/1/2009 7:45       1.65     13085.0  United Kingdom  \n",
       "...                 ...        ...         ...             ...  \n",
       "525456  12/9/2010 20:01       2.95     17530.0  United Kingdom  \n",
       "525457  12/9/2010 20:01       3.75     17530.0  United Kingdom  \n",
       "525458  12/9/2010 20:01       3.75     17530.0  United Kingdom  \n",
       "525459  12/9/2010 20:01       3.75     17530.0  United Kingdom  \n",
       "525460  12/9/2010 20:01       1.95     17530.0  United Kingdom  \n",
       "\n",
       "[349025 rows x 8 columns]"
      ]
     },
     "execution_count": 33,
     "metadata": {},
     "output_type": "execute_result"
    }
   ],
   "source": [
    "#2. Remover Duplicatas e Outliers\n",
    "\n",
    "df.drop_duplicates(inplace=True)\n",
    "\n",
    "\n",
    "Q1 = df['Quantity'].quantile(0.25)\n",
    "Q3 = df['Quantity'].quantile(0.75)\n",
    "IQR = Q3 - Q1\n",
    "\n",
    "\n",
    "df = df[(df['Quantity'] >= (Q1 - 1.5 * IQR)) & (df['Quantity'] <= (Q3 + 1.5 * IQR))]\n",
    "\n",
    "\n",
    "Q1 = df['UnitPrice'].quantile(0.25)\n",
    "Q3 = df['UnitPrice'].quantile(0.75)\n",
    "IQR = Q3 - Q1\n",
    "df = df[(df['UnitPrice'] >= (Q1 - 1.5 * IQR)) & (df['UnitPrice'] <= (Q3 + 1.5 * IQR))]\n",
    "\n",
    "df\n"
   ]
  },
  {
   "cell_type": "code",
   "execution_count": 34,
   "metadata": {},
   "outputs": [
    {
     "name": "stdout",
     "output_type": "stream",
     "text": [
      "Média: 7.0066986605544015, Mediana: 5.0, Moda: 1, Desvio Padrão: 6.742736979777914\n"
     ]
    }
   ],
   "source": [
    "#2. Análise Exploratória de Dados (EDA)\n",
    "#Estatísticas Descritivas\n",
    "\n",
    "\n",
    "df.describe()\n",
    "\n",
    "\n",
    "mean_quantity = df['Quantity'].mean()\n",
    "median_quantity = df['Quantity'].median()\n",
    "mode_quantity = df['Quantity'].mode()[0]\n",
    "std_quantity = df['Quantity'].std()\n",
    "\n",
    "print(f\"Média: {mean_quantity}, Mediana: {median_quantity}, Moda: {mode_quantity}, Desvio Padrão: {std_quantity}\")\n",
    "\n",
    "\n"
   ]
  },
  {
   "cell_type": "markdown",
   "metadata": {},
   "source": [
    "\n"
   ]
  },
  {
   "cell_type": "code",
   "execution_count": 35,
   "metadata": {},
   "outputs": [
    {
     "name": "stdout",
     "output_type": "stream",
     "text": [
      "Description\n",
      "WHITE HANGING HEART T-LIGHT HOLDER    2540\n",
      "STRAWBERRY CERAMIC TRINKET BOX        1327\n",
      "HOME BUILDING BLOCK WORD              1199\n",
      "REX CASH+CARRY JUMBO SHOPPER          1104\n",
      "ASSORTED COLOUR BIRD ORNAMENT         1076\n",
      "BAKING SET 9 PIECE RETROSPOT          1061\n",
      "60 TEATIME FAIRY CAKE CASES           1014\n",
      "WOODEN FRAME ANTIQUE WHITE            1012\n",
      "HEART OF WICKER LARGE                  989\n",
      "LUNCH BAG RED SPOTTY                   984\n",
      "Name: count, dtype: int64\n"
     ]
    }
   ],
   "source": [
    "#Identificação de Produtos, Clientes e Períodos Chave\n",
    "\n",
    "#Produtos Mais Vendidos\n",
    "\n",
    "top_products = df['Description'].value_counts().head(10)\n",
    "print(top_products)\n",
    "\n",
    "\n",
    "\n",
    "\n"
   ]
  },
  {
   "cell_type": "code",
   "execution_count": 36,
   "metadata": {},
   "outputs": [
    {
     "name": "stdout",
     "output_type": "stream",
     "text": [
      "CustomerID\n",
      "14911.0    91609.84\n",
      "17850.0    47246.65\n",
      "14156.0    33793.49\n",
      "13089.0    31378.90\n",
      "15311.0    22909.84\n",
      "Name: TotalPrice, dtype: float64\n"
     ]
    }
   ],
   "source": [
    "#Clientes Mais Valiosos\n",
    "\n",
    "\n",
    "df['TotalPrice'] = df['Quantity'] * df['UnitPrice']\n",
    "top_customers = df.groupby('CustomerID')['TotalPrice'].sum().sort_values(ascending=False).head(5)\n",
    "print(top_customers)\n"
   ]
  },
  {
   "cell_type": "code",
   "execution_count": 37,
   "metadata": {},
   "outputs": [
    {
     "name": "stdout",
     "output_type": "stream",
     "text": [
      "InvoiceDate\n",
      "2009-12-31    358273.030\n",
      "2010-01-31    251096.752\n",
      "2010-02-28    260971.146\n",
      "2010-03-31    351548.111\n",
      "2010-04-30    306165.462\n",
      "2010-05-31    298925.030\n",
      "2010-06-30    314283.710\n",
      "2010-07-31    292996.140\n",
      "2010-08-31    293123.450\n",
      "2010-09-30    401561.411\n",
      "2010-10-31    535859.210\n",
      "2010-11-30    604353.022\n",
      "2010-12-31    149251.810\n",
      "Freq: ME, Name: TotalPrice, dtype: float64\n"
     ]
    },
    {
     "name": "stderr",
     "output_type": "stream",
     "text": [
      "C:\\Users\\pedro\\AppData\\Local\\Temp\\ipykernel_18376\\2709473661.py:4: FutureWarning: 'M' is deprecated and will be removed in a future version, please use 'ME' instead.\n",
      "  sales_per_month = df.set_index('InvoiceDate').resample('M')['TotalPrice'].sum()\n"
     ]
    }
   ],
   "source": [
    "#Períodos de Maior Volume de Vendas\n",
    "\n",
    "df['InvoiceDate'] = pd.to_datetime(df['InvoiceDate'])\n",
    "sales_per_month = df.set_index('InvoiceDate').resample('M')['TotalPrice'].sum()\n",
    "print(sales_per_month)\n"
   ]
  },
  {
   "cell_type": "code",
   "execution_count": null,
   "metadata": {},
   "outputs": [
    {
     "name": "stdout",
     "output_type": "stream",
     "text": [
      "awda\n"
     ]
    }
   ],
   "source": [
    "# 3. Visualizações em Python\n",
    "\n",
    "import matplotlib.pyplot as plt\n",
    "import seaborn as sns\n",
    "\n",
    "# Configuração opcional de estilo\n",
    "sns.set_style('whitegrid')\n",
    "\n",
    "\n"
   ]
  },
  {
   "cell_type": "code",
   "execution_count": 39,
   "metadata": {},
   "outputs": [
    {
     "name": "stdout",
     "output_type": "stream",
     "text": [
      "Requirement already satisfied: matplotlib in c:\\users\\pedro\\appdata\\local\\packages\\pythonsoftwarefoundation.python.3.11_qbz5n2kfra8p0\\localcache\\local-packages\\python311\\site-packages (3.9.2)\n",
      "Requirement already satisfied: contourpy>=1.0.1 in c:\\users\\pedro\\appdata\\local\\packages\\pythonsoftwarefoundation.python.3.11_qbz5n2kfra8p0\\localcache\\local-packages\\python311\\site-packages (from matplotlib) (1.3.0)\n",
      "Requirement already satisfied: cycler>=0.10 in c:\\users\\pedro\\appdata\\local\\packages\\pythonsoftwarefoundation.python.3.11_qbz5n2kfra8p0\\localcache\\local-packages\\python311\\site-packages (from matplotlib) (0.12.1)\n",
      "Requirement already satisfied: fonttools>=4.22.0 in c:\\users\\pedro\\appdata\\local\\packages\\pythonsoftwarefoundation.python.3.11_qbz5n2kfra8p0\\localcache\\local-packages\\python311\\site-packages (from matplotlib) (4.54.1)\n",
      "Requirement already satisfied: kiwisolver>=1.3.1 in c:\\users\\pedro\\appdata\\local\\packages\\pythonsoftwarefoundation.python.3.11_qbz5n2kfra8p0\\localcache\\local-packages\\python311\\site-packages (from matplotlib) (1.4.7)\n",
      "Requirement already satisfied: numpy>=1.23 in c:\\users\\pedro\\appdata\\local\\packages\\pythonsoftwarefoundation.python.3.11_qbz5n2kfra8p0\\localcache\\local-packages\\python311\\site-packages (from matplotlib) (2.1.3)\n",
      "Requirement already satisfied: packaging>=20.0 in c:\\users\\pedro\\appdata\\local\\packages\\pythonsoftwarefoundation.python.3.11_qbz5n2kfra8p0\\localcache\\local-packages\\python311\\site-packages (from matplotlib) (24.1)\n",
      "Requirement already satisfied: pillow>=8 in c:\\users\\pedro\\appdata\\local\\packages\\pythonsoftwarefoundation.python.3.11_qbz5n2kfra8p0\\localcache\\local-packages\\python311\\site-packages (from matplotlib) (11.0.0)\n",
      "Requirement already satisfied: pyparsing>=2.3.1 in c:\\users\\pedro\\appdata\\local\\packages\\pythonsoftwarefoundation.python.3.11_qbz5n2kfra8p0\\localcache\\local-packages\\python311\\site-packages (from matplotlib) (3.2.0)\n",
      "Requirement already satisfied: python-dateutil>=2.7 in c:\\users\\pedro\\appdata\\local\\packages\\pythonsoftwarefoundation.python.3.11_qbz5n2kfra8p0\\localcache\\local-packages\\python311\\site-packages (from matplotlib) (2.9.0.post0)\n",
      "Requirement already satisfied: six>=1.5 in c:\\users\\pedro\\appdata\\local\\packages\\pythonsoftwarefoundation.python.3.11_qbz5n2kfra8p0\\localcache\\local-packages\\python311\\site-packages (from python-dateutil>=2.7->matplotlib) (1.16.0)\n",
      "Note: you may need to restart the kernel to use updated packages.\n"
     ]
    },
    {
     "name": "stderr",
     "output_type": "stream",
     "text": [
      "\n",
      "[notice] A new release of pip is available: 24.0 -> 24.3.1\n",
      "[notice] To update, run: C:\\Users\\pedro\\AppData\\Local\\Microsoft\\WindowsApps\\PythonSoftwareFoundation.Python.3.11_qbz5n2kfra8p0\\python.exe -m pip install --upgrade pip\n"
     ]
    }
   ],
   "source": [
    "%pip install matplotlib"
   ]
  },
  {
   "cell_type": "code",
   "execution_count": 40,
   "metadata": {},
   "outputs": [
    {
     "name": "stdout",
     "output_type": "stream",
     "text": [
      "Requirement already satisfied: seaborn in c:\\users\\pedro\\appdata\\local\\packages\\pythonsoftwarefoundation.python.3.11_qbz5n2kfra8p0\\localcache\\local-packages\\python311\\site-packages (0.13.2)Note: you may need to restart the kernel to use updated packages.\n"
     ]
    },
    {
     "name": "stderr",
     "output_type": "stream",
     "text": [
      "\n",
      "[notice] A new release of pip is available: 24.0 -> 24.3.1\n",
      "[notice] To update, run: C:\\Users\\pedro\\AppData\\Local\\Microsoft\\WindowsApps\\PythonSoftwareFoundation.Python.3.11_qbz5n2kfra8p0\\python.exe -m pip install --upgrade pip\n"
     ]
    },
    {
     "name": "stdout",
     "output_type": "stream",
     "text": [
      "\n",
      "Requirement already satisfied: numpy!=1.24.0,>=1.20 in c:\\users\\pedro\\appdata\\local\\packages\\pythonsoftwarefoundation.python.3.11_qbz5n2kfra8p0\\localcache\\local-packages\\python311\\site-packages (from seaborn) (2.1.3)\n",
      "Requirement already satisfied: pandas>=1.2 in c:\\users\\pedro\\appdata\\local\\packages\\pythonsoftwarefoundation.python.3.11_qbz5n2kfra8p0\\localcache\\local-packages\\python311\\site-packages (from seaborn) (2.2.3)\n",
      "Requirement already satisfied: matplotlib!=3.6.1,>=3.4 in c:\\users\\pedro\\appdata\\local\\packages\\pythonsoftwarefoundation.python.3.11_qbz5n2kfra8p0\\localcache\\local-packages\\python311\\site-packages (from seaborn) (3.9.2)\n",
      "Requirement already satisfied: contourpy>=1.0.1 in c:\\users\\pedro\\appdata\\local\\packages\\pythonsoftwarefoundation.python.3.11_qbz5n2kfra8p0\\localcache\\local-packages\\python311\\site-packages (from matplotlib!=3.6.1,>=3.4->seaborn) (1.3.0)\n",
      "Requirement already satisfied: cycler>=0.10 in c:\\users\\pedro\\appdata\\local\\packages\\pythonsoftwarefoundation.python.3.11_qbz5n2kfra8p0\\localcache\\local-packages\\python311\\site-packages (from matplotlib!=3.6.1,>=3.4->seaborn) (0.12.1)\n",
      "Requirement already satisfied: fonttools>=4.22.0 in c:\\users\\pedro\\appdata\\local\\packages\\pythonsoftwarefoundation.python.3.11_qbz5n2kfra8p0\\localcache\\local-packages\\python311\\site-packages (from matplotlib!=3.6.1,>=3.4->seaborn) (4.54.1)\n",
      "Requirement already satisfied: kiwisolver>=1.3.1 in c:\\users\\pedro\\appdata\\local\\packages\\pythonsoftwarefoundation.python.3.11_qbz5n2kfra8p0\\localcache\\local-packages\\python311\\site-packages (from matplotlib!=3.6.1,>=3.4->seaborn) (1.4.7)\n",
      "Requirement already satisfied: packaging>=20.0 in c:\\users\\pedro\\appdata\\local\\packages\\pythonsoftwarefoundation.python.3.11_qbz5n2kfra8p0\\localcache\\local-packages\\python311\\site-packages (from matplotlib!=3.6.1,>=3.4->seaborn) (24.1)\n",
      "Requirement already satisfied: pillow>=8 in c:\\users\\pedro\\appdata\\local\\packages\\pythonsoftwarefoundation.python.3.11_qbz5n2kfra8p0\\localcache\\local-packages\\python311\\site-packages (from matplotlib!=3.6.1,>=3.4->seaborn) (11.0.0)\n",
      "Requirement already satisfied: pyparsing>=2.3.1 in c:\\users\\pedro\\appdata\\local\\packages\\pythonsoftwarefoundation.python.3.11_qbz5n2kfra8p0\\localcache\\local-packages\\python311\\site-packages (from matplotlib!=3.6.1,>=3.4->seaborn) (3.2.0)\n",
      "Requirement already satisfied: python-dateutil>=2.7 in c:\\users\\pedro\\appdata\\local\\packages\\pythonsoftwarefoundation.python.3.11_qbz5n2kfra8p0\\localcache\\local-packages\\python311\\site-packages (from matplotlib!=3.6.1,>=3.4->seaborn) (2.9.0.post0)\n",
      "Requirement already satisfied: pytz>=2020.1 in c:\\users\\pedro\\appdata\\local\\packages\\pythonsoftwarefoundation.python.3.11_qbz5n2kfra8p0\\localcache\\local-packages\\python311\\site-packages (from pandas>=1.2->seaborn) (2024.2)\n",
      "Requirement already satisfied: tzdata>=2022.7 in c:\\users\\pedro\\appdata\\local\\packages\\pythonsoftwarefoundation.python.3.11_qbz5n2kfra8p0\\localcache\\local-packages\\python311\\site-packages (from pandas>=1.2->seaborn) (2024.2)\n",
      "Requirement already satisfied: six>=1.5 in c:\\users\\pedro\\appdata\\local\\packages\\pythonsoftwarefoundation.python.3.11_qbz5n2kfra8p0\\localcache\\local-packages\\python311\\site-packages (from python-dateutil>=2.7->matplotlib!=3.6.1,>=3.4->seaborn) (1.16.0)\n"
     ]
    }
   ],
   "source": [
    "%pip install seaborn"
   ]
  },
  {
   "cell_type": "code",
   "execution_count": 41,
   "metadata": {},
   "outputs": [
    {
     "data": {
      "image/png": "[encoded data removed]",
      "text/plain": [
       "<Figure size 1200x600 with 1 Axes>"
      ]
     },
     "metadata": {},
     "output_type": "display_data"
    }
   ],
   "source": [
    "#Evolução das Vendas ao Longo do Tempo\n",
    "\n",
    "\n",
    "plt.figure(figsize=(12,6))\n",
    "sales_per_month.plot(color='pink')\n",
    "plt.title('Evolução Mensal das Vendas')\n",
    "plt.xlabel('Mês')\n",
    "plt.savefig('docs/sales_over_time.png')\n",
    "plt.ylabel('Total de Vendas')\n",
    "sns.cubehelix_palette(start=.5, rot=-.5, as_cmap=True)\n",
    "plt.show()\n"
   ]
  },
  {
   "cell_type": "code",
   "execution_count": 42,
   "metadata": {},
   "outputs": [
    {
     "data": {
      "image/png": "[encoded data removed]",
      "text/plain": [
       "<Figure size 1200x600 with 1 Axes>"
      ]
     },
     "metadata": {},
     "output_type": "display_data"
    }
   ],
   "source": [
    "#Principais Produtos e Categorias\n",
    "\n",
    "plt.figure(figsize=(12,6))\n",
    "top_products.plot(kind='bar', color='skyblue')\n",
    "plt.title('Top 10 Produtos Mais Vendidos')\n",
    "plt.xlabel('Produto')\n",
    "plt.ylabel('Quantidade Vendida')\n",
    "plt.savefig('docs/top_products.png')\n",
    "plt.show()\n"
   ]
  },
  {
   "cell_type": "code",
   "execution_count": 43,
   "metadata": {},
   "outputs": [
    {
     "data": {
      "image/png": "[encoded data removed]",
      "text/plain": [
       "<Figure size 1200x600 with 1 Axes>"
      ]
     },
     "metadata": {},
     "output_type": "display_data"
    }
   ],
   "source": [
    "#Distribuição Geográfica das Vendas\n",
    "\n",
    "country_sales = df.groupby('Country')['TotalPrice'].sum().sort_values(ascending=False)\n",
    "\n",
    "plt.figure(figsize=(12,6))\n",
    "country_sales.plot(kind='bar')\n",
    "plt.title('Vendas por País')\n",
    "plt.xlabel('País')\n",
    "plt.ylabel('Total de Vendas')\n",
    "plt.savefig('docs/sales_by_country.png')\n",
    "plt.show()\n"
   ]
  },
  {
   "cell_type": "code",
   "execution_count": 44,
   "metadata": {},
   "outputs": [],
   "source": [
    "# Gerar Relatórios em Formato CSV\n",
    "\n",
    "top_customers.to_csv('data/top_customers.csv', index=True)\n",
    "\n",
    "top_products.to_csv('data/top_products.csv', index=True)\n"
   ]
  },
  {
   "cell_type": "code",
   "execution_count": 45,
   "metadata": {},
   "outputs": [
    {
     "name": "stdout",
     "output_type": "stream",
     "text": [
      "Note: you may need to restart the kernel to use updated packages.\n"
     ]
    },
    {
     "name": "stderr",
     "output_type": "stream",
     "text": [
      "ERROR: Could not find a version that satisfies the requirement json (from versions: none)\n",
      "ERROR: No matching distribution found for json\n",
      "\n",
      "[notice] A new release of pip is available: 24.0 -> 24.3.1\n",
      "[notice] To update, run: C:\\Users\\pedro\\AppData\\Local\\Microsoft\\WindowsApps\\PythonSoftwareFoundation.Python.3.11_qbz5n2kfra8p0\\python.exe -m pip install --upgrade pip\n"
     ]
    }
   ],
   "source": [
    "%pip install json"
   ]
  },
  {
   "cell_type": "code",
   "execution_count": 46,
   "metadata": {},
   "outputs": [],
   "source": [
    "import json\n",
    "\n",
    "with open('config.json', 'r') as config_file:\n",
    "    config = json.load(config_file)\n",
    "\n",
    "data_file = config['data_file']\n",
    "output_dir = config['output_dir']\n",
    "date_format = config['date_format']\n"
   ]
  },
  {
   "cell_type": "code",
   "execution_count": 47,
   "metadata": {},
   "outputs": [
    {
     "name": "stdout",
     "output_type": "stream",
     "text": [
      "Requirement already satisfied: oracledb in c:\\users\\pedro\\appdata\\local\\packages\\pythonsoftwarefoundation.python.3.11_qbz5n2kfra8p0\\localcache\\local-packages\\python311\\site-packages (2.4.1)\n",
      "Requirement already satisfied: cryptography>=3.2.1 in c:\\users\\pedro\\appdata\\local\\packages\\pythonsoftwarefoundation.python.3.11_qbz5n2kfra8p0\\localcache\\local-packages\\python311\\site-packages (from oracledb) (43.0.3)\n",
      "Requirement already satisfied: cffi>=1.12 in c:\\users\\pedro\\appdata\\local\\packages\\pythonsoftwarefoundation.python.3.11_qbz5n2kfra8p0\\localcache\\local-packages\\python311\\site-packages (from cryptography>=3.2.1->oracledb) (1.17.1)\n",
      "Requirement already satisfied: pycparser in c:\\users\\pedro\\appdata\\local\\packages\\pythonsoftwarefoundation.python.3.11_qbz5n2kfra8p0\\localcache\\local-packages\\python311\\site-packages (from cffi>=1.12->cryptography>=3.2.1->oracledb) (2.22)\n",
      "Note: you may need to restart the kernel to use updated packages.\n"
     ]
    },
    {
     "name": "stderr",
     "output_type": "stream",
     "text": [
      "\n",
      "[notice] A new release of pip is available: 24.0 -> 24.3.1\n",
      "[notice] To update, run: C:\\Users\\pedro\\AppData\\Local\\Microsoft\\WindowsApps\\PythonSoftwareFoundation.Python.3.11_qbz5n2kfra8p0\\python.exe -m pip install --upgrade pip\n"
     ]
    }
   ],
   "source": [
    "%pip install oracledb"
   ]
  },
  {
   "cell_type": "code",
   "execution_count": 5,
   "metadata": {},
   "outputs": [],
   "source": [
    "import json\n",
    "import oracledb\n",
    "\n",
    "class DB:\n",
    "    def __init__(self):\n",
    "        self.connection, self.cursor = self.connect_to_db()\n",
    "\n",
    "    def __del__(self):\n",
    "        self.cursor.close()\n",
    "        self.connection.close()\n",
    "\n",
    "    @staticmethod\n",
    "    def connect_to_db():\n",
    "        dsn_str = oracledb.makedsn(\"oracle.fiap.com.br\", 1521, service_name=\"orcl\")\n",
    "        with open(\"credenciais.json\") as f:\n",
    "            credentials = json.load(f)\n",
    "            user = credentials[\"user\"]\n",
    "            password = credentials[\"password\"]\n",
    "        connection = oracledb.connect(user=user, password=password, dsn=dsn_str)\n",
    "        cursor = connection.cursor()\n",
    "        return connection, cursor\n",
    "\n",
    "    def create_tables(self):\n",
    "        \"\"\"Cria as tabelas Clientes, Pedidos e Vendas, se ainda não existirem.\"\"\"\n",
    "        try:\n",
    "            # Exclui a tabela Clientes se ela já existir\n",
    "            self.cursor.execute('''\n",
    "            BEGIN\n",
    "                EXECUTE IMMEDIATE 'DROP TABLE Clientes CASCADE CONSTRAINTS';\n",
    "            EXCEPTION\n",
    "                WHEN OTHERS THEN\n",
    "                    IF SQLCODE != -942 THEN\n",
    "                        RAISE;\n",
    "                    END IF;\n",
    "            END;\n",
    "            ''')\n",
    "\n",
    "            # Criação da tabela Clientes\n",
    "            self.cursor.execute('''\n",
    "            CREATE TABLE Clientes (\n",
    "                ClienteID NUMBER PRIMARY KEY,\n",
    "                Nome VARCHAR2(100),\n",
    "                Pais VARCHAR2(50),\n",
    "                TotalGasto NUMBER DEFAULT 0\n",
    "            )\n",
    "            ''')\n",
    "\n",
    "            # Exclui a tabela Pedidos se ela já existir\n",
    "            self.cursor.execute('''\n",
    "            BEGIN\n",
    "                EXECUTE IMMEDIATE 'DROP TABLE Pedidos CASCADE CONSTRAINTS';\n",
    "            EXCEPTION\n",
    "                WHEN OTHERS THEN\n",
    "                    IF SQLCODE != -942 THEN\n",
    "                        RAISE;\n",
    "                    END IF;\n",
    "            END;\n",
    "            ''')\n",
    "\n",
    "            # Criação da tabela Pedidos\n",
    "            self.cursor.execute('''\n",
    "            CREATE TABLE Pedidos (\n",
    "                PedidoID NUMBER PRIMARY KEY,\n",
    "                ClienteID NUMBER,\n",
    "                ValorPedido NUMBER,\n",
    "                DataPedido DATE,\n",
    "                FOREIGN KEY (ClienteID) REFERENCES Clientes(ClienteID)\n",
    "            )\n",
    "            ''')\n",
    "\n",
    "            # Exclui a tabela Vendas se ela já existir\n",
    "            self.cursor.execute('''\n",
    "            BEGIN\n",
    "                EXECUTE IMMEDIATE 'DROP TABLE Vendas CASCADE CONSTRAINTS';\n",
    "            EXCEPTION\n",
    "                WHEN OTHERS THEN\n",
    "                    IF SQLCODE != -942 THEN\n",
    "                        RAISE;\n",
    "                    END IF;\n",
    "            END;\n",
    "            ''')\n",
    "\n",
    "            # Criação da tabela Vendas\n",
    "            self.cursor.execute('''\n",
    "            CREATE TABLE Vendas (\n",
    "                VendaID NUMBER PRIMARY KEY,\n",
    "                ProdutoID NUMBER,\n",
    "                QuantidadeVendida NUMBER,\n",
    "                DataVenda DATE\n",
    "            )\n",
    "            ''')\n",
    "\n",
    "            self.connection.commit()\n",
    "            print(\"Tabelas 'Clientes', 'Pedidos' e 'Vendas' criadas com sucesso.\")\n",
    "\n",
    "        except Exception as e:\n",
    "            print(\"Erro ao criar tabelas:\", e)\n",
    "            self.connection.rollback()\n",
    "\n",
    "    def create_trigger(self):\n",
    "        \"\"\"Cria uma trigger para atualizar o TotalGasto na tabela Clientes.\"\"\"\n",
    "        try:\n",
    "            trigger_query = '''\n",
    "            CREATE OR REPLACE TRIGGER Atualiza_TotalGasto\n",
    "            AFTER INSERT ON Pedidos\n",
    "            FOR EACH ROW\n",
    "            BEGIN\n",
    "                UPDATE Clientes\n",
    "                SET TotalGasto = TotalGasto + :NEW.ValorPedido\n",
    "                WHERE ClienteID = :NEW.ClienteID;\n",
    "            END;\n",
    "            '''\n",
    "            self.cursor.execute(trigger_query)\n",
    "            self.connection.commit()\n",
    "            print(\"Trigger 'Atualiza_TotalGasto' criada com sucesso.\")\n",
    "            return \"Trigger criada com sucesso.\"\n",
    "\n",
    "        except Exception as e:\n",
    "            print(\"Erro ao criar trigger:\", e)\n",
    "            self.connection.rollback()\n",
    "            return f\"Erro ao criar trigger: {e}\"\n",
    "\n",
    "    def insert_cliente(self, cliente_id, nome, pais):\n",
    "        \"\"\"Insere um cliente na tabela Clientes, se o ID não existir.\"\"\"\n",
    "        try:\n",
    "            # Verifica se o cliente já existe\n",
    "            self.cursor.execute(\"SELECT COUNT(*) FROM Clientes WHERE ClienteID = :1\", (cliente_id,))\n",
    "            if self.cursor.fetchone()[0] > 0:\n",
    "                print(f\"Cliente com ID {cliente_id} já existe.\")\n",
    "                return f\"Cliente com ID {cliente_id} já existe.\"\n",
    "\n",
    "            self.cursor.execute('''\n",
    "            INSERT INTO Clientes (ClienteID, Nome, Pais)\n",
    "            VALUES (:1, :2, :3)\n",
    "            ''', (cliente_id, nome, pais))\n",
    "            self.connection.commit()\n",
    "            print(f\"Cliente {nome} inserido com sucesso.\")\n",
    "        except Exception as e:\n",
    "            print(\"Erro ao inserir cliente:\", e)\n",
    "            self.connection.rollback()\n",
    "\n",
    "    def insert_pedido(self, pedido_id, cliente_id, valor_pedido, data_pedido):\n",
    "        \"\"\"Insere um pedido na tabela Pedidos e ativa a trigger, se o ID não existir.\"\"\"\n",
    "        try:\n",
    "            # Verifica se o pedido já existe\n",
    "            self.cursor.execute(\"SELECT COUNT(*) FROM Pedidos WHERE PedidoID = :1\", (pedido_id,))\n",
    "            if self.cursor.fetchone()[0] > 0:\n",
    "                print(f\"Pedido com ID {pedido_id} já existe.\")\n",
    "                return f\"Pedido com ID {pedido_id} já existe.\"\n",
    "\n",
    "            self.cursor.execute('''\n",
    "            INSERT INTO Pedidos (PedidoID, ClienteID, ValorPedido, DataPedido)\n",
    "            VALUES (:1, :2, :3, TO_DATE(:4, 'YYYY-MM-DD'))\n",
    "            ''', (pedido_id, cliente_id, valor_pedido, data_pedido))\n",
    "            self.connection.commit()\n",
    "            print(f\"Pedido {pedido_id} inserido com sucesso para o cliente {cliente_id}.\")\n",
    "        except Exception as e:\n",
    "            print(\"Erro ao inserir pedido:\", e)\n",
    "            self.connection.rollback()\n",
    "\n",
    "    def insert_venda(self, venda_id, produto_id, quantidade_vendida, data_venda):\n",
    "        \"\"\"Insere uma venda na tabela Vendas, se o ID não existir.\"\"\"\n",
    "        try:\n",
    "            # Verifica se a venda já existe\n",
    "            self.cursor.execute(\"SELECT COUNT(*) FROM Vendas WHERE VendaID = :1\", (venda_id,))\n",
    "            if self.cursor.fetchone()[0] > 0:\n",
    "                print(f\"Venda com ID {venda_id} já existe.\")\n",
    "                return f\"Venda com ID {venda_id} já existe.\"\n",
    "\n",
    "            self.cursor.execute('''\n",
    "            INSERT INTO Vendas (VendaID, ProdutoID, QuantidadeVendida, DataVenda)\n",
    "            VALUES (:1, :2, :3, TO_DATE(:4, 'YYYY-MM-DD'))\n",
    "            ''', (venda_id, produto_id, quantidade_vendida, data_venda))\n",
    "            self.connection.commit()\n",
    "            print(f\"Venda {venda_id} inserida com sucesso para o produto {produto_id}.\")\n",
    "        except Exception as e:\n",
    "            print(\"Erro ao inserir venda:\", e)\n",
    "            self.connection.rollback()\n",
    "    def top_product_last_quarter(self):\n",
    "        \"\"\"Retorna o produto com maior aumento de vendas no último trimestre.\"\"\"\n",
    "        try:\n",
    "            query = '''\n",
    "            SELECT ProdutoID, SUM(QuantidadeVendida) AS TotalVendas\n",
    "            FROM Vendas\n",
    "            WHERE DataVenda >= ADD_MONTHS(TRUNC(SYSDATE, 'Q'), -3)\n",
    "            GROUP BY ProdutoID\n",
    "            ORDER BY TotalVendas DESC\n",
    "            FETCH FIRST 1 ROW ONLY\n",
    "            '''\n",
    "            self.cursor.execute(query)\n",
    "            result = self.cursor.fetchall()\n",
    "            print(\"Produto com Maior Aumento de Vendas no Último Trimestre:\")\n",
    "            for row in result:\n",
    "                print(f\"ProdutoID: {row[0]}, Total Vendas: {row[1]}\")\n",
    "            return result\n",
    "        except Exception as e:\n",
    "            print(\"Erro na consulta de produto com maior aumento de vendas:\", e)\n",
    "            return None\n",
    "    def top_region_for_expansion(self):\n",
    "        \"\"\"Retorna a região com maior potencial para expansão.\"\"\"\n",
    "        try:\n",
    "            query = '''\n",
    "            SELECT Pais, SUM(TotalGasto) AS PotencialExpansao\n",
    "            FROM Clientes\n",
    "            GROUP BY Pais\n",
    "            ORDER BY PotencialExpansao DESC\n",
    "            FETCH FIRST 1 ROW ONLY\n",
    "            '''\n",
    "            self.cursor.execute(query)\n",
    "            result = self.cursor.fetchall()\n",
    "            print(\"Região com Maior Potencial para Expansão:\")\n",
    "            for row in result:\n",
    "                print(f\"País: {row[0]}, Potencial de Expansão: {row[1]}\")\n",
    "            return result\n",
    "        except Exception as e:\n",
    "            print(\"Erro na consulta de região com maior potencial de expansão:\", e)\n",
    "            return None\n",
    "    def create_procedure_update_stock(self):\n",
    "        \"\"\"Cria o procedimento que atualiza o estoque com base nas vendas realizadas.\"\"\"\n",
    "        procedure_query = '''\n",
    "        CREATE OR REPLACE PROCEDURE Atualiza_Estoque(produto_id NUMBER, quantidade_vendida NUMBER) IS\n",
    "        BEGIN\n",
    "            UPDATE Estoque\n",
    "            SET Quantidade = Quantidade - quantidade_vendida\n",
    "            WHERE ProdutoID = produto_id;\n",
    "            COMMIT;\n",
    "        END;\n",
    "        '''\n",
    "        self.cursor.execute(procedure_query)\n",
    "        self.connection.commit()\n",
    "        print(\"Procedimento 'Atualiza_Estoque' criado com sucesso.\")\n",
    "\n",
    "    def create_procedure_generate_report(self):\n",
    "        \"\"\"Cria o procedimento que gera relatórios mensais de vendas.\"\"\"\n",
    "        procedure_query = '''\n",
    "        CREATE OR REPLACE PROCEDURE Gera_Relatorio_Mensal(ano NUMBER, mes NUMBER) IS\n",
    "            CURSOR c_vendas IS\n",
    "                SELECT ProdutoID, SUM(QuantidadeVendida) AS TotalVendas\n",
    "                FROM Vendas\n",
    "                WHERE EXTRACT(YEAR FROM DataVenda) = ano\n",
    "                  AND EXTRACT(MONTH FROM DataVenda) = mes\n",
    "                GROUP BY ProdutoID;\n",
    "        BEGIN\n",
    "            FOR venda IN c_vendas LOOP\n",
    "                DBMS_OUTPUT.PUT_LINE('ProdutoID: ' || venda.ProdutoID || ', Total Vendido: ' || venda.TotalVendas);\n",
    "            END LOOP;\n",
    "        END;\n",
    "        '''\n",
    "        self.cursor.execute(procedure_query)\n",
    "        self.connection.commit()\n",
    "        print(\"Procedimento 'Gera_Relatorio_Mensal' criado com sucesso.\")\n",
    "\n",
    "    def create_function_avg_time_between_purchases(self):\n",
    "        \"\"\"Cria a função que calcula o tempo médio entre compras de um cliente.\"\"\"\n",
    "        function_query = '''\n",
    "        CREATE OR REPLACE FUNCTION Tempo_Medio_Entre_Compras(cliente_id NUMBER) RETURN NUMBER IS\n",
    "            tempo_medio NUMBER;\n",
    "        BEGIN\n",
    "            SELECT AVG(DATE_PART('day', LEAD(DataPedido) OVER (ORDER BY DataPedido) - DataPedido))\n",
    "            INTO tempo_medio\n",
    "            FROM Pedidos\n",
    "            WHERE ClienteID = cliente_id;\n",
    "            RETURN NVL(tempo_medio, 0);\n",
    "        END;\n",
    "        '''\n",
    "        self.cursor.execute(function_query)\n",
    "        self.connection.commit()\n",
    "        print(\"Função 'Tempo_Medio_Entre_Compras' criada com sucesso.\")\n",
    "\n",
    "    def create_trigger_audit_clientes(self):\n",
    "        \"\"\"Cria o trigger que registra alterações na tabela Clientes.\"\"\"\n",
    "        trigger_query = '''\n",
    "        CREATE OR REPLACE TRIGGER Audita_Clientes\n",
    "        AFTER UPDATE ON Clientes\n",
    "        FOR EACH ROW\n",
    "        BEGIN\n",
    "            INSERT INTO Clientes_Auditoria (ClienteID, Operacao, DataOperacao, Usuario)\n",
    "            VALUES (:OLD.ClienteID, 'UPDATE', SYSDATE, USER);\n",
    "        END;\n",
    "        '''\n",
    "        self.cursor.execute(trigger_query)\n",
    "        self.connection.commit()\n",
    "        print(\"Trigger 'Audita_Clientes' criada com sucesso.\")\n",
    "    def top_5_customers_by_revenue(self):\n",
    "        \"\"\"Retorna os 5 clientes com maior faturamento total.\"\"\"\n",
    "        try:\n",
    "            query = '''\n",
    "            SELECT Nome, TotalGasto\n",
    "            FROM Clientes\n",
    "            ORDER BY TotalGasto DESC\n",
    "            FETCH FIRST 5 ROWS ONLY\n",
    "            '''\n",
    "            self.cursor.execute(query)\n",
    "            result = self.cursor.fetchall()\n",
    "            print(\"Top 5 Clientes com Maior Faturamento Total:\")\n",
    "            for row in result:\n",
    "                print(f\"Nome: {row[0]}, Total Gasto: {row[1]}\")\n",
    "            return result\n",
    "        except Exception as e:\n",
    "            print(\"Erro na consulta de top clientes:\", e)\n",
    "            return None\n",
    "\n",
    "    def check_total_gasto(self, cliente_id):\n",
    "        \"\"\"Verifica o total gasto de um cliente específico.\"\"\"\n",
    "        try:\n",
    "            self.cursor.execute('''\n",
    "            SELECT TotalGasto FROM Clientes WHERE ClienteID = :1\n",
    "            ''', (cliente_id,))\n",
    "            total_gasto = self.cursor.fetchone()[0]\n",
    "            print(f\"Total gasto pelo cliente {cliente_id}: {total_gasto}\")\n",
    "            return total_gasto\n",
    "        except Exception as e:\n",
    "            print(\"Erro ao verificar o total gasto:\", e)\n",
    "            return None\n"
   ]
  },
  {
   "cell_type": "code",
   "execution_count": 21,
   "metadata": {},
   "outputs": [
    {
     "name": "stdout",
     "output_type": "stream",
     "text": [
      "Tabelas 'Clientes', 'Pedidos' e 'Vendas' criadas com sucesso.\n",
      "Trigger 'Atualiza_TotalGasto' criada com sucesso.\n",
      "Cliente João inserido com sucesso.\n",
      "Pedido 1 inserido com sucesso para o cliente 1.\n"
     ]
    }
   ],
   "source": [
    "# Instancia a classe DB e cria as tabelas\n",
    "db = DB()\n",
    "db.create_tables()       # Cria as tabelas, caso ainda não existam\n",
    "db.create_trigger()      # Cria a trigger\n",
    "\n",
    "# Insere um cliente\n",
    "db.insert_cliente(1, \"João\", \"Brasil\")\n",
    "\n",
    "# Insere um pedido e verifica se o TotalGasto do cliente foi atualizado\n",
    "db.insert_pedido(1, 1, 500, \"2023-11-05\")  # Insere um pedido de R$500 para o cliente com ID 1\n"
   ]
  },
  {
   "cell_type": "code",
   "execution_count": 3,
   "metadata": {},
   "outputs": [
    {
     "name": "stdout",
     "output_type": "stream",
     "text": [
      "Top 5 Clientes com Maior Faturamento Total:\n",
      "Nome: João, Total Gasto: 500\n",
      "Produto com Maior Aumento de Vendas no Último Trimestre:\n",
      "Região com Maior Potencial para Expansão:\n",
      "País: Brasil, Potencial de Expansão: 500\n"
     ]
    },
    {
     "data": {
      "text/plain": [
       "[('Brasil', 500)]"
      ]
     },
     "execution_count": 3,
     "metadata": {},
     "output_type": "execute_result"
    }
   ],
   "source": [
    "db = DB()\n",
    "db.top_5_customers_by_revenue()\n",
    "db.top_product_last_quarter()\n",
    "db.top_region_for_expansion()"
   ]
  },
  {
   "cell_type": "code",
   "execution_count": 6,
   "metadata": {},
   "outputs": [
    {
     "name": "stdout",
     "output_type": "stream",
     "text": [
      "Procedimento 'Atualiza_Estoque' criado com sucesso.\n",
      "Procedimento 'Gera_Relatorio_Mensal' criado com sucesso.\n",
      "Função 'Tempo_Medio_Entre_Compras' criada com sucesso.\n",
      "Trigger 'Audita_Clientes' criada com sucesso.\n"
     ]
    }
   ],
   "source": [
    "db = DB()\n",
    "\n",
    "# Criar procedimentos\n",
    "db.create_procedure_update_stock()\n",
    "db.create_procedure_generate_report()\n",
    "\n",
    "# Criar função\n",
    "db.create_function_avg_time_between_purchases()\n",
    "\n",
    "# Criar trigger\n",
    "db.create_trigger_audit_clientes()\n"
   ]
  }
 ],
 "metadata": {
  "kernelspec": {
   "display_name": "Python 3",
   "language": "python",
   "name": "python3"
  },
  "language_info": {
   "codemirror_mode": {
    "name": "ipython",
    "version": 3
   },
   "file_extension": ".py",
   "mimetype": "text/x-python",
   "name": "python",
   "nbconvert_exporter": "python",
   "pygments_lexer": "ipython3",
   "version": "3.11.9"
  }
 },
 "nbformat": 4,
 "nbformat_minor": 2
}
